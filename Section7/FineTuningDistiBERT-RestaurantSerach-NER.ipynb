{
 "cells": [
  {
   "cell_type": "code",
   "id": "initial_id",
   "metadata": {
    "collapsed": true,
    "ExecuteTime": {
     "end_time": "2025-01-02T21:57:38.502997Z",
     "start_time": "2025-01-02T21:57:36.953198Z"
    }
   },
   "source": [
    "import os\n",
    "import torch\n",
    "import pandas as pd\n",
    "import evaluate\n",
    "import numpy as np\n",
    "import seaborn as sns\n",
    "import time\n",
    "import wandb\n",
    "import warnings\n",
    "import json\n",
    "import matplotlib.pyplot as plt\n",
    "from transformers import AutoTokenizer, AutoModel, AutoModelForSequenceClassification, AutoConfig, TrainingArguments, Trainer, pipeline\n",
    "from sklearn.model_selection import train_test_split\n",
    "from datasets import Dataset, DatasetDict\n",
    "from datetime import datetime\n",
    "from sklearn.metrics import accuracy_score, f1_score, classification_report, confusion_matrix"
   ],
   "outputs": [],
   "execution_count": 2
  },
  {
   "metadata": {},
   "cell_type": "markdown",
   "source": "## Restaurant Search NER Recognition By Fine Tuning DistilBERT",
   "id": "c48e050fade3c06f"
  },
  {
   "metadata": {},
   "cell_type": "markdown",
   "source": [
    "## The Dataset\n",
    "### MIT Restaurant Dataset"
   ],
   "id": "9a670ad398b38e78"
  },
  {
   "metadata": {},
   "cell_type": "markdown",
   "source": "",
   "id": "a7c8ecc5486faee6"
  },
  {
   "metadata": {
    "ExecuteTime": {
     "end_time": "2025-01-02T21:57:42.039117Z",
     "start_time": "2025-01-02T21:57:42.036503Z"
    }
   },
   "cell_type": "code",
   "source": "warnings.filterwarnings(\"ignore\") #Don't do in production",
   "id": "35426a2e712ff2fc",
   "outputs": [],
   "execution_count": 3
  },
  {
   "metadata": {
    "ExecuteTime": {
     "end_time": "2025-01-02T21:58:20.365940Z",
     "start_time": "2025-01-02T21:58:20.351907Z"
    }
   },
   "cell_type": "code",
   "source": [
    "device = torch.device(\"cuda\" if torch.cuda.is_available() else \"cpu\")\n",
    "device"
   ],
   "id": "eef580023ced04ef",
   "outputs": [
    {
     "data": {
      "text/plain": [
       "device(type='cuda')"
      ]
     },
     "execution_count": 5,
     "metadata": {},
     "output_type": "execute_result"
    }
   ],
   "execution_count": 5
  },
  {
   "metadata": {
    "ExecuteTime": {
     "end_time": "2025-01-02T22:00:52.163712Z",
     "start_time": "2025-01-02T22:00:52.146358Z"
    }
   },
   "cell_type": "code",
   "source": [
    "train = pd.read_csv(\"Data/train.bio\", sep=\"\\t\", header=None)\n",
    "test = pd.read_csv(\"Data/test.bio\", sep=\"\\t\", header=None)\n",
    "train.head()"
   ],
   "id": "be52b5c452b77f56",
   "outputs": [
    {
     "data": {
      "text/plain": [
       "           0            1\n",
       "0   B-Rating            2\n",
       "1   I-Rating        start\n",
       "2          O  restaurants\n",
       "3          O         with\n",
       "4  B-Amenity       inside"
      ],
      "text/html": [
       "<div>\n",
       "<style scoped>\n",
       "    .dataframe tbody tr th:only-of-type {\n",
       "        vertical-align: middle;\n",
       "    }\n",
       "\n",
       "    .dataframe tbody tr th {\n",
       "        vertical-align: top;\n",
       "    }\n",
       "\n",
       "    .dataframe thead th {\n",
       "        text-align: right;\n",
       "    }\n",
       "</style>\n",
       "<table border=\"1\" class=\"dataframe\">\n",
       "  <thead>\n",
       "    <tr style=\"text-align: right;\">\n",
       "      <th></th>\n",
       "      <th>0</th>\n",
       "      <th>1</th>\n",
       "    </tr>\n",
       "  </thead>\n",
       "  <tbody>\n",
       "    <tr>\n",
       "      <th>0</th>\n",
       "      <td>B-Rating</td>\n",
       "      <td>2</td>\n",
       "    </tr>\n",
       "    <tr>\n",
       "      <th>1</th>\n",
       "      <td>I-Rating</td>\n",
       "      <td>start</td>\n",
       "    </tr>\n",
       "    <tr>\n",
       "      <th>2</th>\n",
       "      <td>O</td>\n",
       "      <td>restaurants</td>\n",
       "    </tr>\n",
       "    <tr>\n",
       "      <th>3</th>\n",
       "      <td>O</td>\n",
       "      <td>with</td>\n",
       "    </tr>\n",
       "    <tr>\n",
       "      <th>4</th>\n",
       "      <td>B-Amenity</td>\n",
       "      <td>inside</td>\n",
       "    </tr>\n",
       "  </tbody>\n",
       "</table>\n",
       "</div>"
      ]
     },
     "execution_count": 8,
     "metadata": {},
     "output_type": "execute_result"
    }
   ],
   "execution_count": 8
  }
 ],
 "metadata": {
  "kernelspec": {
   "display_name": "PyTorchTrain",
   "language": "python",
   "name": "pytorchtrain"
  },
  "language_info": {
   "codemirror_mode": {
    "name": "ipython",
    "version": 2
   },
   "file_extension": ".py",
   "mimetype": "text/x-python",
   "name": "python",
   "nbconvert_exporter": "python",
   "pygments_lexer": "ipython2",
   "version": "2.7.6"
  }
 },
 "nbformat": 4,
 "nbformat_minor": 5
}
