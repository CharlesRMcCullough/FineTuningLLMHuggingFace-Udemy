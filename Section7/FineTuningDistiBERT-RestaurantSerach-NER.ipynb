{
 "cells": [
  {
   "cell_type": "code",
   "execution_count": 1,
   "id": "initial_id",
   "metadata": {
    "ExecuteTime": {
     "end_time": "2025-01-03T20:55:26.293717Z",
     "start_time": "2025-01-03T20:55:24.704076Z"
    },
    "collapsed": true
   },
   "outputs": [],
   "source": [
    "import os\n",
    "import torch\n",
    "import pandas as pd\n",
    "import evaluate\n",
    "import numpy as np\n",
    "import seaborn as sns\n",
    "import time\n",
    "import wandb\n",
    "import warnings\n",
    "import requests\n",
    "import json\n",
    "import matplotlib.pyplot as plt\n",
    "from transformers import AutoTokenizer, AutoModel, AutoModelForSequenceClassification, AutoConfig, TrainingArguments, Trainer, pipeline\n",
    "from sklearn.model_selection import train_test_split\n",
    "from datasets import Dataset, DatasetDict\n",
    "from datetime import datetime\n",
    "from sklearn.metrics import accuracy_score, f1_score, classification_report, confusion_matrix"
   ]
  },
  {
   "cell_type": "markdown",
   "id": "c48e050fade3c06f",
   "metadata": {},
   "source": [
    "## Restaurant Search NER Recognition By Fine Tuning DistilBERT"
   ]
  },
  {
   "cell_type": "markdown",
   "id": "9a670ad398b38e78",
   "metadata": {},
   "source": [
    "## The Dataset\n",
    "### MIT Restaurant Dataset"
   ]
  },
  {
   "cell_type": "code",
   "execution_count": 2,
   "id": "35426a2e712ff2fc",
   "metadata": {
    "ExecuteTime": {
     "end_time": "2025-01-03T20:55:29.613060Z",
     "start_time": "2025-01-03T20:55:29.611073Z"
    }
   },
   "outputs": [],
   "source": [
    "warnings.filterwarnings(\"ignore\") #Don't do in production"
   ]
  },
  {
   "cell_type": "code",
   "execution_count": 2,
   "id": "eef580023ced04ef",
   "metadata": {
    "ExecuteTime": {
     "end_time": "2025-01-03T20:55:31.265754Z",
     "start_time": "2025-01-03T20:55:31.242692Z"
    }
   },
   "outputs": [
    {
     "data": {
      "text/plain": [
       "device(type='cuda')"
      ]
     },
     "execution_count": 2,
     "metadata": {},
     "output_type": "execute_result"
    }
   ],
   "source": [
    "device = torch.device(\"cuda\" if torch.cuda.is_available() else \"cpu\")\n",
    "device"
   ]
  },
  {
   "cell_type": "code",
   "execution_count": null,
   "id": "be52b5c452b77f56",
   "metadata": {},
   "outputs": [],
   "source": [
    "# train = pd.read_csv(\"Data/train.bio\", sep=\"\\t\", header=None)\n",
    "# test = pd.read_csv(\"Data/test.bio\", sep=\"\\t\", header=None)\n",
    "# train.head()"
   ]
  },
  {
   "cell_type": "markdown",
   "id": "a91bf5d5",
   "metadata": {},
   "source": [
    "### Read as generic text file"
   ]
  },
  {
   "cell_type": "code",
   "execution_count": 3,
   "id": "4e68c0ef",
   "metadata": {
    "ExecuteTime": {
     "end_time": "2025-01-03T20:55:50.660457Z",
     "start_time": "2025-01-03T20:55:50.390298Z"
    }
   },
   "outputs": [],
   "source": [
    "response = requests.get('https://raw.githubusercontent.com/laxmimerit/All-CSV-ML-Data-Files-Download/master/mit_restaurant_search_ner/train.bio')\n",
    "response = response.text\n"
   ]
  },
  {
   "cell_type": "code",
   "execution_count": 4,
   "id": "bc05927b",
   "metadata": {},
   "outputs": [],
   "source": [
    "response = response.splitlines()"
   ]
  },
  {
   "cell_type": "code",
   "execution_count": 5,
   "id": "04859597",
   "metadata": {},
   "outputs": [],
   "source": [
    "temp_tokens = []\n",
    "temp_tags = []\n",
    "train_tokens = []\n",
    "train_tags = []\n",
    "\n",
    "for line in response:\n",
    "    if line != \"\":\n",
    "        tag, token = line.strip().split(\"\\t\")\n",
    "        temp_tags.append(tag)\n",
    "        temp_tokens.append(token)\n",
    "    else:\n",
    "        train_tokens.append(temp_tokens)\n",
    "        train_tags.append(temp_tags)\n",
    "\n",
    "        temp_tokens, temp_tags = [], []"
   ]
  },
  {
   "cell_type": "code",
   "execution_count": null,
   "id": "c0b03b24",
   "metadata": {},
   "outputs": [],
   "source": [
    "train_tokens"
   ]
  },
  {
   "cell_type": "code",
   "execution_count": 6,
   "id": "a4e7c53f",
   "metadata": {},
   "outputs": [
    {
     "data": {
      "text/plain": [
       "(7659, 7659)"
      ]
     },
     "execution_count": 6,
     "metadata": {},
     "output_type": "execute_result"
    }
   ],
   "source": [
    "len(train_tokens), len(train_tags)"
   ]
  },
  {
   "cell_type": "markdown",
   "id": "662a7533",
   "metadata": {},
   "source": [
    "## Hugging Face Dataset Prep"
   ]
  },
  {
   "cell_type": "code",
   "execution_count": 7,
   "id": "03a6bc31",
   "metadata": {},
   "outputs": [],
   "source": [
    "df = pd.DataFrame({'tokens': train_tokens, 'ner_tags_str': train_tags})\n",
    "dataset = Dataset.from_pandas(df)\n",
    "\n",
    "dataset = DatasetDict({'train': dataset})"
   ]
  },
  {
   "cell_type": "code",
   "execution_count": 11,
   "id": "2925eb3f",
   "metadata": {},
   "outputs": [],
   "source": [
    "response = requests.get('https://raw.githubusercontent.com/laxmimerit/All-CSV-ML-Data-Files-Download/master/mit_restaurant_search_ner/test.bio')\n",
    "response = response.text\n",
    "response = response.splitlines()"
   ]
  },
  {
   "cell_type": "code",
   "execution_count": 12,
   "id": "df1bd43d",
   "metadata": {},
   "outputs": [],
   "source": [
    "temp_tokens = []\n",
    "temp_tags = []\n",
    "test_tokens = []\n",
    "test_tags = []\n",
    "\n",
    "for line in response:\n",
    "    if line != \"\":\n",
    "        tag, token = line.strip().split(\"\\t\")\n",
    "        temp_tags.append(tag)\n",
    "        temp_tokens.append(token)\n",
    "    else:\n",
    "        test_tokens.append(temp_tokens)\n",
    "        test_tags.append(temp_tags)\n",
    "\n",
    "        temp_tokens, temp_tags = [], []"
   ]
  },
  {
   "cell_type": "code",
   "execution_count": 13,
   "id": "29f3b2f8",
   "metadata": {},
   "outputs": [
    {
     "data": {
      "text/plain": [
       "(1520, 1520)"
      ]
     },
     "execution_count": 13,
     "metadata": {},
     "output_type": "execute_result"
    }
   ],
   "source": [
    "len(test_tokens), len(test_tags)"
   ]
  },
  {
   "cell_type": "code",
   "execution_count": 18,
   "id": "548ecedb",
   "metadata": {},
   "outputs": [],
   "source": [
    "df = pd.DataFrame({'tokens': train_tokens, 'ner_tags_str': train_tags})\n",
    "train = Dataset.from_pandas(df)\n",
    "\n",
    "df = pd.DataFrame({'tokens': test_tokens, 'ner_tags_str': test_tags})\n",
    "test = Dataset.from_pandas(df)\n",
    "\n",
    "dataset = DatasetDict({'train': train, 'test': test, 'validation': test})"
   ]
  },
  {
   "cell_type": "code",
   "execution_count": 19,
   "id": "7f8f39db",
   "metadata": {},
   "outputs": [
    {
     "data": {
      "text/plain": [
       "DatasetDict({\n",
       "    train: Dataset({\n",
       "        features: ['tokens', 'ner_tags_str'],\n",
       "        num_rows: 7659\n",
       "    })\n",
       "    test: Dataset({\n",
       "        features: ['tokens', 'ner_tags_str'],\n",
       "        num_rows: 1520\n",
       "    })\n",
       "    validation: Dataset({\n",
       "        features: ['tokens', 'ner_tags_str'],\n",
       "        num_rows: 1520\n",
       "    })\n",
       "})"
      ]
     },
     "execution_count": 19,
     "metadata": {},
     "output_type": "execute_result"
    }
   ],
   "source": [
    "dataset"
   ]
  },
  {
   "cell_type": "code",
   "execution_count": 20,
   "id": "eca6ca3a",
   "metadata": {},
   "outputs": [
    {
     "data": {
      "text/plain": [
       "{'tokens': ['2', 'start', 'restaurants', 'with', 'inside', 'dining'],\n",
       " 'ner_tags_str': ['B-Rating', 'I-Rating', 'O', 'O', 'B-Amenity', 'I-Amenity']}"
      ]
     },
     "execution_count": 20,
     "metadata": {},
     "output_type": "execute_result"
    }
   ],
   "source": [
    "dataset['train'][0]"
   ]
  },
  {
   "cell_type": "code",
   "execution_count": 26,
   "id": "9e5dc322",
   "metadata": {},
   "outputs": [
    {
     "data": {
      "text/plain": [
       "['Price',\n",
       " 'Cuisine',\n",
       " 'Amenity',\n",
       " 'Rating',\n",
       " 'Location',\n",
       " 'Restaurant_Name',\n",
       " 'Hours',\n",
       " 'Dish']"
      ]
     },
     "execution_count": 26,
     "metadata": {},
     "output_type": "execute_result"
    }
   ],
   "source": [
    "unique_tags = set()\n",
    "for tag in dataset['train']['ner_tags_str']:\n",
    "    unique_tags.update(tag)\n",
    " \n",
    "#unique_tags   \n",
    "unique_tags = list(set([x[2:] for x in list(unique_tags) if x != 'O']))"
   ]
  },
  {
   "cell_type": "code",
   "execution_count": 27,
   "id": "b3d5db66",
   "metadata": {},
   "outputs": [
    {
     "data": {
      "text/plain": [
       "{'O': 0,\n",
       " 'B-Price': 1,\n",
       " 'I-Price': 2,\n",
       " 'B-Cuisine': 3,\n",
       " 'I-Cuisine': 4,\n",
       " 'B-Amenity': 5,\n",
       " 'I-Amenity': 6,\n",
       " 'B-Rating': 7,\n",
       " 'I-Rating': 8,\n",
       " 'B-Location': 9,\n",
       " 'I-Location': 10,\n",
       " 'B-Restaurant_Name': 11,\n",
       " 'I-Restaurant_Name': 12,\n",
       " 'B-Hours': 13,\n",
       " 'I-Hours': 14,\n",
       " 'B-Dish': 15,\n",
       " 'I-Dish': 16}"
      ]
     },
     "execution_count": 27,
     "metadata": {},
     "output_type": "execute_result"
    }
   ],
   "source": [
    "tag2index = {\"O\": 0}\n",
    "for i, tag in enumerate(unique_tags):\n",
    "    tag2index[f'B-{tag}'] = len(tag2index)\n",
    "    tag2index[f'I-{tag}'] = len(tag2index)\n",
    "    \n",
    "tag2index"
   ]
  },
  {
   "cell_type": "code",
   "execution_count": null,
   "id": "0ea7e241",
   "metadata": {},
   "outputs": [],
   "source": [
    "index2tag = "
   ]
  }
 ],
 "metadata": {
  "kernelspec": {
   "display_name": "PyTorchTrain",
   "language": "python",
   "name": "python3"
  },
  "language_info": {
   "codemirror_mode": {
    "name": "ipython",
    "version": 3
   },
   "file_extension": ".py",
   "mimetype": "text/x-python",
   "name": "python",
   "nbconvert_exporter": "python",
   "pygments_lexer": "ipython3",
   "version": "3.12.8"
  }
 },
 "nbformat": 4,
 "nbformat_minor": 5
}
