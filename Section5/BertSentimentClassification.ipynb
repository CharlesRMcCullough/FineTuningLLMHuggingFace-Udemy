{
 "cells": [
  {
   "cell_type": "code",
   "execution_count": null,
   "id": "initial_id",
   "metadata": {
    "collapsed": true
   },
   "outputs": [],
   "source": [
    "import os\n",
    "import torch\n",
    "import pandas as pd\n",
    "import evaluate\n",
    "import numpy as np\n",
    "import seaborn as sns\n",
    "import wandb\n",
    "import matplotlib.pyplot as plt\n",
    "from transformers import AutoTokenizer, AutoModel, AutoModelForSequenceClassification, AutoConfig, TrainingArguments, Trainer, pipeline\n",
    "from sklearn.model_selection import train_test_split\n",
    "from datasets import Dataset, DatasetDict\n",
    "from datetime import datetime\n",
    "from sklearn.metrics import accuracy_score, f1_score, classification_report, confusion_matrix\n",
    "from dotenv import load_dotenv\n",
    "from huggingface_hub import login\n",
    "from wandb.sdk.verify.verify import PROJECT_NAME"
   ]
  },
  {
   "cell_type": "code",
   "execution_count": null,
   "id": "cd3331d449dae27a",
   "metadata": {},
   "outputs": [],
   "source": [
    "device = torch.device(\"cuda\" if torch.cuda.is_available() else \"cpu\")\n",
    "device"
   ]
  },
  {
   "cell_type": "code",
   "execution_count": null,
   "id": "d69c8f96458f0b37",
   "metadata": {},
   "outputs": [],
   "source": [
    "torch.cuda.empty_cache()"
   ]
  },
  {
   "cell_type": "code",
   "execution_count": null,
   "id": "9e6fc87efa438a7b",
   "metadata": {},
   "outputs": [],
   "source": [
    "load_dotenv()"
   ]
  },
  {
   "cell_type": "markdown",
   "id": "7fa25b73e0237983",
   "metadata": {},
   "source": [
    "## Fine Tune Bert for Sentiment Classification\n"
   ]
  },
  {
   "cell_type": "code",
   "execution_count": null,
   "id": "863593edb9eb83ff",
   "metadata": {},
   "outputs": [],
   "source": [
    "df = pd.read_csv(\"https://raw.githubusercontent.com/laxmimerit/All-CSV-ML-Data-Files-Download/refs/heads/master/twitter_multi_class_sentiment.csv\")"
   ]
  },
  {
   "cell_type": "code",
   "execution_count": null,
   "id": "cdd6df8f4a1b8f0b",
   "metadata": {},
   "outputs": [],
   "source": [
    "PROJECT_NAME = \"TwitterClassification\"\n",
    "RUN_NAME =  f\"{datetime.now():%Y-%m-%d_%H.%M.%S}\"\n",
    "HF_USER = \"CharlesMac\"\n",
    "PROJECT_RUN_NAME = f\"{PROJECT_NAME}-{RUN_NAME}\"\n",
    "HUB_MODEL_NAME = f\"{HF_USER}/{PROJECT_RUN_NAME}\"\n",
    "\n",
    "EPOCHS = 3\n",
    "LEARNING_RATE = 2e-5\n",
    "LOG_INTO_WANDB = True"
   ]
  },
  {
   "cell_type": "markdown",
   "id": "c5fb74e3e83da9ac",
   "metadata": {},
   "source": [
    "### Data Analysis"
   ]
  },
  {
   "cell_type": "code",
   "execution_count": null,
   "id": "d56cecd8",
   "metadata": {},
   "outputs": [],
   "source": [
    "df.info()"
   ]
  },
  {
   "cell_type": "code",
   "execution_count": null,
   "id": "2f7338c5",
   "metadata": {},
   "outputs": [],
   "source": [
    "df['label'].value_counts()"
   ]
  },
  {
   "cell_type": "code",
   "execution_count": null,
   "id": "9c043f1e91d25b35",
   "metadata": {},
   "outputs": [],
   "source": [
    "label_counts = df['label_name'].value_counts(ascending=True)\n",
    "label_counts.plot.barh()\n",
    "plt.title(\"Frequency of Classes\")\n",
    "plt.ylabel(\"Classes\")\n",
    "plt.show()"
   ]
  },
  {
   "cell_type": "code",
   "execution_count": null,
   "id": "7974483c2498bf8c",
   "metadata": {},
   "outputs": [],
   "source": [
    "df['Words per Tweet'] = df['text'].str.split().apply(len)\n",
    "df.boxplot('Words per Tweet', by='label_name')"
   ]
  },
  {
   "cell_type": "markdown",
   "id": "7e15c3f7955d1c11",
   "metadata": {},
   "source": [
    "### Tokenization"
   ]
  },
  {
   "cell_type": "code",
   "execution_count": null,
   "id": "c601587c789dae59",
   "metadata": {},
   "outputs": [],
   "source": [
    "model_ckpt = \"bert-base-uncased\"\n",
    "tokenizer = AutoTokenizer.from_pretrained(model_ckpt)"
   ]
  },
  {
   "cell_type": "code",
   "execution_count": null,
   "id": "e42e47d82d8e8dc",
   "metadata": {},
   "outputs": [],
   "source": [
    "text = \"I love machine learning! Tokenization is awesome!\"\n",
    "encoded_input = tokenizer(text)\n",
    "print(encoded_input)"
   ]
  },
  {
   "cell_type": "code",
   "execution_count": null,
   "id": "510f7d8f595625e2",
   "metadata": {},
   "outputs": [],
   "source": [
    "len(tokenizer.vocab), tokenizer.vocab_size, tokenizer.model_max_length"
   ]
  },
  {
   "cell_type": "markdown",
   "id": "5446a0d3bfbfbac7",
   "metadata": {},
   "source": [
    "### Data Loader and Train Test Split"
   ]
  },
  {
   "cell_type": "code",
   "execution_count": null,
   "id": "b462f02b2f686dcb",
   "metadata": {},
   "outputs": [],
   "source": [
    "train, test = train_test_split(df, test_size=0.3, stratify=df['label_name'], random_state=42)\n",
    "test, validation = train_test_split(test, test_size=1/3, stratify=test['label_name'])\n",
    "\n",
    "train.shape, test.shape, validation.shape"
   ]
  },
  {
   "cell_type": "code",
   "execution_count": null,
   "id": "bde372297271ce3b",
   "metadata": {},
   "outputs": [],
   "source": [
    "dataset = DatasetDict (\n",
    "    {'train':Dataset.from_pandas(train, preserve_index=False),\n",
    "     'test':Dataset.from_pandas(test, preserve_index=False),\n",
    "    'validation':Dataset.from_pandas(validation, preserve_index=False)\n",
    "})\n"
   ]
  },
  {
   "cell_type": "code",
   "execution_count": null,
   "id": "b7b3b4a097df1e21",
   "metadata": {},
   "outputs": [],
   "source": [
    "dataset"
   ]
  },
  {
   "cell_type": "code",
   "execution_count": null,
   "id": "7b12ca85ecf44bfe",
   "metadata": {},
   "outputs": [],
   "source": [
    "dataset['train'][122]"
   ]
  },
  {
   "cell_type": "code",
   "execution_count": null,
   "id": "30b10cc8141240e9",
   "metadata": {},
   "outputs": [],
   "source": [
    "def tokenize(batch):\n",
    "    tokens = tokenizer(batch['text'], padding=True, truncation=True)\n",
    "    return tokens\n",
    "\n",
    "print(tokenize(dataset['train'][0]))"
   ]
  },
  {
   "cell_type": "code",
   "execution_count": null,
   "id": "b7ddd60b50c3af35",
   "metadata": {},
   "outputs": [],
   "source": [
    "emotion_encoded = dataset.map(tokenize, batched=True, batch_size=None)\n",
    "emotion_encoded"
   ]
  },
  {
   "cell_type": "code",
   "execution_count": null,
   "id": "f4fa15d96c7623a2",
   "metadata": {},
   "outputs": [],
   "source": [
    "# label2id, id2label\n",
    "label2id = {x['label_name']:x['label'] for x in dataset['train']}\n",
    "id2label = {v:k for k,v in label2id.items()}"
   ]
  },
  {
   "cell_type": "code",
   "execution_count": null,
   "id": "b15505a22edae69d",
   "metadata": {},
   "outputs": [],
   "source": [
    "# label2id\n",
    "id2label"
   ]
  },
  {
   "cell_type": "markdown",
   "id": "e624667ff3ec6851",
   "metadata": {},
   "source": [
    "## Model Building"
   ]
  },
  {
   "cell_type": "code",
   "execution_count": null,
   "id": "ef5a6fda9af554c8",
   "metadata": {},
   "outputs": [],
   "source": [
    "# Log in to HuggingFace\n",
    "\n",
    "hf_token = os.environ['HF_TOKEN']\n",
    "login(hf_token, add_to_git_credential=True)"
   ]
  },
  {
   "cell_type": "code",
   "execution_count": null,
   "id": "cd41565ab2bc64c2",
   "metadata": {},
   "outputs": [],
   "source": [
    "wandb_api_key = os.environ['WANDB_API_KEY']\n",
    "os.environ[\"WANDB_API_KEY\"] = wandb_api_key\n",
    "wandb.login()\n",
    "#\n",
    "# # Configure Weights & Biases to record against our project\n",
    "os.environ[\"WANDB_PROJECT\"] = PROJECT_NAME\n",
    "os.environ[\"WANDB_LOG_MODEL\"] = \"checkpoint\" if LOG_INTO_WANDB else \"end\"\n",
    "os.environ[\"WANDB_WATCH\"] = \"gradients\""
   ]
  },
  {
   "cell_type": "code",
   "execution_count": null,
   "id": "25f8c898233cf7cc",
   "metadata": {},
   "outputs": [],
   "source": [
    "if LOG_INTO_WANDB:\n",
    "    wandb.init(project=PROJECT_NAME, name=RUN_NAME)"
   ]
  },
  {
   "cell_type": "code",
   "execution_count": null,
   "id": "7d9f17fbcc6a007e",
   "metadata": {},
   "outputs": [],
   "source": [
    "model = AutoModel.from_pretrained(model_ckpt)"
   ]
  },
  {
   "cell_type": "code",
   "execution_count": null,
   "id": "c27db4446de3ecd2",
   "metadata": {},
   "outputs": [],
   "source": [
    "model"
   ]
  },
  {
   "cell_type": "code",
   "execution_count": null,
   "id": "a431279d2830049e",
   "metadata": {},
   "outputs": [],
   "source": [
    "num_labels = len(label2id)\n",
    "config = AutoConfig.from_pretrained(model_ckpt, label2id=label2id, id2label=id2label)\n",
    "model = AutoModelForSequenceClassification.from_pretrained(model_ckpt, config=config).to(device)"
   ]
  },
  {
   "cell_type": "code",
   "execution_count": null,
   "id": "beea545729c4f546",
   "metadata": {},
   "outputs": [],
   "source": [
    "model.config"
   ]
  },
  {
   "cell_type": "code",
   "execution_count": null,
   "id": "6ffe29c384dad7ac",
   "metadata": {},
   "outputs": [],
   "source": [
    "BATCH_SIZE = 64\n",
    "TRAINING_DIR = \"bert_base_training_dir\"\n",
    "\n",
    "training_args = TrainingArguments(output_dir=TRAINING_DIR,\n",
    "                                  overwrite_output_dir=True,\n",
    "                                  num_train_epochs=EPOCHS,\n",
    "                                  learning_rate=LEARNING_RATE,\n",
    "                                  per_device_train_batch_size=BATCH_SIZE,\n",
    "                                  per_device_eval_batch_size=BATCH_SIZE,\n",
    "                                  report_to=\"wandb\" if LOG_INTO_WANDB else None,\n",
    "                                  run_name=RUN_NAME,\n",
    "                                  weight_decay=0.01,\n",
    "                                  evaluation_strategy='epoch',\n",
    "                                  disable_tqdm=False,\n",
    "                                  hub_model_id=HUB_MODEL_NAME,\n",
    "                                  hub_private_repo=True\n",
    "                                  )"
   ]
  },
  {
   "cell_type": "markdown",
   "id": "303c2eab93b693e2",
   "metadata": {},
   "source": [
    "### Build compute metrics function"
   ]
  },
  {
   "cell_type": "code",
   "execution_count": null,
   "id": "906aad9c04cc3d1f",
   "metadata": {},
   "outputs": [],
   "source": [
    "accuracy = evaluate.load(\"accuracy\")"
   ]
  },
  {
   "cell_type": "code",
   "execution_count": null,
   "id": "6b28da8051e82c89",
   "metadata": {},
   "outputs": [],
   "source": [
    "# def compute_metrics(eval_pred):\n",
    "#     predictions, labels = eval_pred\n",
    "#     predictions = np.argmax(predictions, axis=1)\n",
    "#     return accuracy.compute(predictions=predictions, reference=labels)"
   ]
  },
  {
   "cell_type": "code",
   "execution_count": null,
   "id": "88d5ad267388a0bb",
   "metadata": {},
   "outputs": [],
   "source": [
    "def compute_metrics(pred):\n",
    "    labels = pred.label_ids\n",
    "    preds = pred.predictions.argmax(-1)\n",
    "    f1 = f1_score(labels, preds, average='weighted')\n",
    "    acc = accuracy_score(labels, preds)\n",
    "    return {\"accuracy\": acc, \"f1\": f1}"
   ]
  },
  {
   "cell_type": "markdown",
   "id": "d8ba5b0d8c13a36d",
   "metadata": {},
   "source": [
    "## Build Trainer"
   ]
  },
  {
   "cell_type": "code",
   "execution_count": null,
   "id": "6e41eab0d7d30110",
   "metadata": {},
   "outputs": [],
   "source": [
    "trainer = Trainer(model=model,\n",
    "                  args=training_args,\n",
    "                  compute_metrics=compute_metrics,\n",
    "                  train_dataset=emotion_encoded['train'],\n",
    "                  eval_dataset=emotion_encoded['validation'],\n",
    "                  tokenizer=tokenizer)"
   ]
  },
  {
   "cell_type": "code",
   "execution_count": null,
   "id": "b07835b2685b99db",
   "metadata": {},
   "outputs": [],
   "source": [
    "trainer.train()"
   ]
  },
  {
   "cell_type": "code",
   "execution_count": null,
   "id": "3528a1b03e76a80b",
   "metadata": {},
   "outputs": [],
   "source": [
    "trainer.save_model(\"bert-base-uncased-sentiment1\")"
   ]
  },
  {
   "cell_type": "markdown",
   "id": "bf830a9c918cdcf",
   "metadata": {},
   "source": [
    "## Model Evaluation"
   ]
  },
  {
   "cell_type": "code",
   "execution_count": null,
   "id": "6e9a47fcef84df17",
   "metadata": {},
   "outputs": [],
   "source": [
    "preds_output = trainer.predict(emotion_encoded['test'])\n",
    "preds_output.metrics"
   ]
  },
  {
   "cell_type": "code",
   "execution_count": null,
   "id": "790a33d959f974fa",
   "metadata": {},
   "outputs": [],
   "source": [
    "y_pred = np.argmax(preds_output.predictions, axis=1)\n",
    "y_true = emotion_encoded['test'][:]['label']"
   ]
  },
  {
   "cell_type": "code",
   "execution_count": null,
   "id": "18e3de77b9ca4f2b",
   "metadata": {},
   "outputs": [],
   "source": [
    "print(classification_report(y_true, y_pred))"
   ]
  },
  {
   "cell_type": "code",
   "execution_count": null,
   "id": "d4045b75e51afce6",
   "metadata": {},
   "outputs": [],
   "source": [
    "label2id"
   ]
  },
  {
   "cell_type": "code",
   "execution_count": null,
   "id": "6425e8782d094668",
   "metadata": {},
   "outputs": [],
   "source": [
    "cm = confusion_matrix(y_true, y_pred)\n",
    "plt.figure(figsize = (5,5))\n",
    "sns.heatmap(cm, annot=True, xticklabels=label2id.keys(), yticklabels=label2id.keys(), fmt='d', cbar=False, cmap='Reds')\n",
    "plt.ylabel('Actual')\n",
    "plt.xlabel('Predicted')\n",
    "plt.show()\n"
   ]
  },
  {
   "cell_type": "markdown",
   "id": "5bdac9a7946c426",
   "metadata": {},
   "source": [
    "## Build Prediction Function and Store Model"
   ]
  },
  {
   "cell_type": "code",
   "execution_count": null,
   "id": "8c8368292805b6f0",
   "metadata": {},
   "outputs": [],
   "source": [
    "text = \"I am super happy today. I got it done, finally\"\n",
    "\n",
    "\n"
   ]
  },
  {
   "cell_type": "code",
   "execution_count": null,
   "id": "5bf1b6daa8bacd6f",
   "metadata": {},
   "outputs": [],
   "source": [
    "def get_prediction(text):\n",
    "    input_encoded = tokenizer(text, return_tensors='pt').to(device)\n",
    "    with torch.no_grad():\n",
    "        outputs = model(**input_encoded)\n",
    "\n",
    "    logits = outputs.logits\n",
    "    pred = torch.argmax(logits, dim=-1).item()\n",
    "    return id2label[pred]\n"
   ]
  },
  {
   "cell_type": "code",
   "execution_count": null,
   "id": "c2df4cc9d4481ba4",
   "metadata": {},
   "outputs": [],
   "source": [
    "# print prediction\n",
    "get_prediction(text)\n"
   ]
  },
  {
   "cell_type": "code",
   "execution_count": null,
   "id": "3328ad0459fc03aa",
   "metadata": {},
   "outputs": [],
   "source": [
    "# use pipline for prediction\n",
    "\n",
    "classifier = pipeline(\"text-classification\", model=\"bert-base-uncased-sentiment\")\n",
    "classifier([text, \"I hate you!\", \"You are the apple of my eye!\"])"
   ]
  },
  {
   "cell_type": "code",
   "execution_count": null,
   "id": "d72b59b489c961e",
   "metadata": {},
   "outputs": [],
   "source": [
    "if LOG_INTO_WANDB:\n",
    "    wandb.finish()"
   ]
  }
 ],
 "metadata": {
  "kernelspec": {
   "display_name": "PyTorchTrain",
   "language": "python",
   "name": "python3"
  },
  "language_info": {
   "codemirror_mode": {
    "name": "ipython",
    "version": 3
   },
   "file_extension": ".py",
   "mimetype": "text/x-python",
   "name": "python",
   "nbconvert_exporter": "python",
   "pygments_lexer": "ipython3",
   "version": "3.12.8"
  }
 },
 "nbformat": 4,
 "nbformat_minor": 5
}
