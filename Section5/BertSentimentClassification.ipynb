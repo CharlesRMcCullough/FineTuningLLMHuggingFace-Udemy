{
 "cells": [
  {
   "cell_type": "code",
   "id": "initial_id",
   "metadata": {
    "collapsed": true
   },
   "source": [
    "import os\n",
    "import torch\n",
    "import pandas as pd\n",
    "import evaluate\n",
    "import numpy as np\n",
    "import seaborn as sns\n",
    "import wandb\n",
    "import matplotlib.pyplot as plt\n",
    "from transformers import AutoTokenizer, AutoModel, AutoModelForSequenceClassification, AutoConfig, TrainingArguments, Trainer, pipeline\n",
    "from sklearn.model_selection import train_test_split\n",
    "from datasets import Dataset, DatasetDict\n",
    "from datetime import datetime\n",
    "from sklearn.metrics import accuracy_score, f1_score, classification_report, confusion_matrix\n",
    "from dotenv import load_dotenv\n",
    "from huggingface_hub import login\n",
    "from wandb.sdk.verify.verify import PROJECT_NAME"
   ],
   "outputs": [],
   "execution_count": null
  },
  {
   "metadata": {},
   "cell_type": "code",
   "source": [
    "device = torch.device(\"cuda\" if torch.cuda.is_available() else \"cpu\")\n",
    "device"
   ],
   "id": "cd3331d449dae27a",
   "outputs": [],
   "execution_count": null
  },
  {
   "metadata": {},
   "cell_type": "code",
   "source": "torch.cuda.empty_cache()",
   "id": "d69c8f96458f0b37",
   "outputs": [],
   "execution_count": null
  },
  {
   "metadata": {},
   "cell_type": "code",
   "source": "load_dotenv()",
   "id": "9e6fc87efa438a7b",
   "outputs": [],
   "execution_count": null
  },
  {
   "metadata": {},
   "cell_type": "markdown",
   "source": "## Fine Tune Bert for Sentiment Classification\n",
   "id": "7fa25b73e0237983"
  },
  {
   "cell_type": "code",
   "id": "863593edb9eb83ff",
   "metadata": {},
   "source": [
    "df = pd.read_csv(\"https://raw.githubusercontent.com/laxmimerit/All-CSV-ML-Data-Files-Download/refs/heads/master/twitter_multi_class_sentiment.csv\")"
   ],
   "outputs": [],
   "execution_count": null
  },
  {
   "metadata": {},
   "cell_type": "code",
   "source": [
    "PROJECT_NAME = \"TwitterClassification\"\n",
    "RUN_NAME =  f\"{datetime.now():%Y-%m-%d_%H.%M.%S}\"\n",
    "HF_USER = \"CharlesMac\"\n",
    "PROJECT_RUN_NAME = f\"{PROJECT_NAME}-{RUN_NAME}\"\n",
    "HUB_MODEL_NAME = f\"{HF_USER}/{PROJECT_RUN_NAME}\"\n",
    "\n",
    "EPOCHS = 3\n",
    "LEARNING_RATE = 2e-5\n",
    "LOG_INTO_WANDB = True"
   ],
   "id": "cdd6df8f4a1b8f0b",
   "outputs": [],
   "execution_count": null
  },
  {
   "metadata": {},
   "cell_type": "markdown",
   "source": "### Data Analysis",
   "id": "c5fb74e3e83da9ac"
  },
  {
   "cell_type": "code",
   "id": "d56cecd8",
   "metadata": {},
   "source": [
    "df.info()"
   ],
   "outputs": [],
   "execution_count": null
  },
  {
   "cell_type": "code",
   "id": "2f7338c5",
   "metadata": {},
   "source": [
    "df['label'].value_counts()"
   ],
   "outputs": [],
   "execution_count": null
  },
  {
   "metadata": {},
   "cell_type": "code",
   "source": [
    "label_counts = df['label_name'].value_counts(ascending=True)\n",
    "label_counts.plot.barh()\n",
    "plt.title(\"Frequency of Classes\")\n",
    "plt.ylabel(\"Classes\")\n",
    "plt.show()"
   ],
   "id": "9c043f1e91d25b35",
   "outputs": [],
   "execution_count": null
  },
  {
   "metadata": {},
   "cell_type": "code",
   "source": [
    "df['Words per Tweet'] = df['text'].str.split().apply(len)\n",
    "df.boxplot('Words per Tweet', by='label_name')"
   ],
   "id": "7974483c2498bf8c",
   "outputs": [],
   "execution_count": null
  },
  {
   "metadata": {},
   "cell_type": "markdown",
   "source": "### Tokenization",
   "id": "7e15c3f7955d1c11"
  },
  {
   "metadata": {},
   "cell_type": "code",
   "source": [
    "model_ckpt = \"bert-base-uncased\"\n",
    "tokenizer = AutoTokenizer.from_pretrained(model_ckpt)"
   ],
   "id": "c601587c789dae59",
   "outputs": [],
   "execution_count": null
  },
  {
   "metadata": {},
   "cell_type": "code",
   "source": [
    "text = \"I love machine learning! Tokenization is awesome!\"\n",
    "encoded_input = tokenizer(text)\n",
    "print(encoded_input)"
   ],
   "id": "e42e47d82d8e8dc",
   "outputs": [],
   "execution_count": null
  },
  {
   "metadata": {},
   "cell_type": "code",
   "source": "len(tokenizer.vocab), tokenizer.vocab_size, tokenizer.model_max_length",
   "id": "510f7d8f595625e2",
   "outputs": [],
   "execution_count": null
  },
  {
   "metadata": {},
   "cell_type": "markdown",
   "source": "### Data Loader and Train Test Split",
   "id": "5446a0d3bfbfbac7"
  },
  {
   "metadata": {},
   "cell_type": "code",
   "source": [
    "train, test = train_test_split(df, test_size=0.3, stratify=df['label_name'], random_state=42)\n",
    "test, validation = train_test_split(test, test_size=1/3, stratify=test['label_name'])\n",
    "\n",
    "train.shape, test.shape, validation.shape"
   ],
   "id": "b462f02b2f686dcb",
   "outputs": [],
   "execution_count": null
  },
  {
   "metadata": {},
   "cell_type": "code",
   "source": [
    "dataset = DatasetDict (\n",
    "    {'train':Dataset.from_pandas(train, preserve_index=False),\n",
    "     'test':Dataset.from_pandas(test, preserve_index=False),\n",
    "    'validation':Dataset.from_pandas(validation, preserve_index=False)\n",
    "})\n"
   ],
   "id": "bde372297271ce3b",
   "outputs": [],
   "execution_count": null
  },
  {
   "metadata": {},
   "cell_type": "code",
   "source": "dataset",
   "id": "b7b3b4a097df1e21",
   "outputs": [],
   "execution_count": null
  },
  {
   "metadata": {},
   "cell_type": "code",
   "source": "dataset['train'][122]",
   "id": "7b12ca85ecf44bfe",
   "outputs": [],
   "execution_count": null
  },
  {
   "metadata": {},
   "cell_type": "code",
   "source": [
    "def tokenize(batch):\n",
    "    tokens = tokenizer(batch['text'], padding=True, truncation=True)\n",
    "    return tokens\n",
    "\n",
    "print(tokenize(dataset['train'][0]))"
   ],
   "id": "30b10cc8141240e9",
   "outputs": [],
   "execution_count": null
  },
  {
   "metadata": {},
   "cell_type": "code",
   "source": [
    "emotion_encoded = dataset.map(tokenize, batched=True, batch_size=None)\n",
    "emotion_encoded"
   ],
   "id": "b7ddd60b50c3af35",
   "outputs": [],
   "execution_count": null
  },
  {
   "metadata": {},
   "cell_type": "code",
   "source": [
    "# label2id, id2label\n",
    "label2id = {x['label_name']:x['label'] for x in dataset['train']}\n",
    "id2label = {v:k for k,v in label2id.items()}"
   ],
   "id": "f4fa15d96c7623a2",
   "outputs": [],
   "execution_count": null
  },
  {
   "metadata": {},
   "cell_type": "code",
   "source": [
    "# label2id\n",
    "id2label"
   ],
   "id": "b15505a22edae69d",
   "outputs": [],
   "execution_count": null
  },
  {
   "metadata": {},
   "cell_type": "markdown",
   "source": "## Model Building",
   "id": "e624667ff3ec6851"
  },
  {
   "metadata": {},
   "cell_type": "code",
   "source": [
    "# Log in to HuggingFace\n",
    "\n",
    "hf_token = os.environ['HF_TOKEN']\n",
    "login(hf_token, add_to_git_credential=True)"
   ],
   "id": "ef5a6fda9af554c8",
   "outputs": [],
   "execution_count": null
  },
  {
   "metadata": {},
   "cell_type": "code",
   "source": [
    "wandb_api_key = os.environ['WANDB_API_KEY']\n",
    "os.environ[\"WANDB_API_KEY\"] = wandb_api_key\n",
    "wandb.login()\n",
    "#\n",
    "# # Configure Weights & Biases to record against our project\n",
    "os.environ[\"WANDB_PROJECT\"] = PROJECT_NAME\n",
    "os.environ[\"WANDB_LOG_MODEL\"] = \"checkpoint\" if LOG_INTO_WANDB else \"end\"\n",
    "os.environ[\"WANDB_WATCH\"] = \"gradients\""
   ],
   "id": "cd41565ab2bc64c2",
   "outputs": [],
   "execution_count": null
  },
  {
   "metadata": {},
   "cell_type": "code",
   "source": [
    "if LOG_INTO_WANDB:\n",
    "    wandb.init(project=PROJECT_NAME, name=RUN_NAME)"
   ],
   "id": "25f8c898233cf7cc",
   "outputs": [],
   "execution_count": null
  },
  {
   "metadata": {},
   "cell_type": "code",
   "source": "model = AutoModel.from_pretrained(model_ckpt)",
   "id": "7d9f17fbcc6a007e",
   "outputs": [],
   "execution_count": null
  },
  {
   "metadata": {},
   "cell_type": "code",
   "source": "model",
   "id": "c27db4446de3ecd2",
   "outputs": [],
   "execution_count": null
  },
  {
   "metadata": {},
   "cell_type": "code",
   "source": [
    "num_labels = len(label2id)\n",
    "config = AutoConfig.from_pretrained(model_ckpt, label2id=label2id, id2label=id2label)\n",
    "model = AutoModelForSequenceClassification.from_pretrained(model_ckpt, config=config).to(device)"
   ],
   "id": "a431279d2830049e",
   "outputs": [],
   "execution_count": null
  },
  {
   "metadata": {},
   "cell_type": "code",
   "source": "model.config",
   "id": "beea545729c4f546",
   "outputs": [],
   "execution_count": null
  },
  {
   "metadata": {},
   "cell_type": "code",
   "source": [
    "BATCH_SIZE = 64\n",
    "TRAINING_DIR = \"bert_base_training_dir\"\n",
    "\n",
    "training_args = TrainingArguments(output_dir=TRAINING_DIR,\n",
    "                                  overwrite_output_dir=True,\n",
    "                                  num_train_epochs=EPOCHS,\n",
    "                                  learning_rate=LEARNING_RATE,\n",
    "                                  per_device_train_batch_size=BATCH_SIZE,\n",
    "                                  per_device_eval_batch_size=BATCH_SIZE,\n",
    "                                  report_to=\"wandb\" if LOG_INTO_WANDB else None,\n",
    "                                  run_name=RUN_NAME,\n",
    "                                  weight_decay=0.01,\n",
    "                                  evaluation_strategy='epoch',\n",
    "                                  disable_tqdm=False,\n",
    "                                  hub_model_id=HUB_MODEL_NAME,\n",
    "                                  hub_private_repo=True\n",
    "                                  )"
   ],
   "id": "6ffe29c384dad7ac",
   "outputs": [],
   "execution_count": null
  },
  {
   "metadata": {},
   "cell_type": "markdown",
   "source": "### Build compute metrics function",
   "id": "303c2eab93b693e2"
  },
  {
   "metadata": {},
   "cell_type": "code",
   "source": "accuracy = evaluate.load(\"accuracy\")",
   "id": "906aad9c04cc3d1f",
   "outputs": [],
   "execution_count": null
  },
  {
   "metadata": {},
   "cell_type": "code",
   "source": [
    "# def compute_metrics(eval_pred):\n",
    "#     predictions, labels = eval_pred\n",
    "#     predictions = np.argmax(predictions, axis=1)\n",
    "#     return accuracy.compute(predictions=predictions, reference=labels)"
   ],
   "id": "6b28da8051e82c89",
   "outputs": [],
   "execution_count": null
  },
  {
   "metadata": {},
   "cell_type": "code",
   "source": [
    "def compute_metrics(pred):\n",
    "    labels = pred.label_ids\n",
    "    preds = pred.predictions.argmax(-1)\n",
    "    f1 = f1_score(labels, preds, average='weighted')\n",
    "    acc = accuracy_score(labels, preds)\n",
    "    return {\"accuracy\": acc, \"f1\": f1}"
   ],
   "id": "88d5ad267388a0bb",
   "outputs": [],
   "execution_count": null
  },
  {
   "metadata": {},
   "cell_type": "markdown",
   "source": "## Build Trainer",
   "id": "d8ba5b0d8c13a36d"
  },
  {
   "metadata": {},
   "cell_type": "code",
   "source": [
    "trainer = Trainer(model=model,\n",
    "                  args=training_args,\n",
    "                  compute_metrics=compute_metrics,\n",
    "                  train_dataset=emotion_encoded['train'],\n",
    "                  eval_dataset=emotion_encoded['validation'],\n",
    "                  tokenizer=tokenizer)"
   ],
   "id": "6e41eab0d7d30110",
   "outputs": [],
   "execution_count": null
  },
  {
   "metadata": {},
   "cell_type": "code",
   "source": "trainer.train()",
   "id": "b07835b2685b99db",
   "outputs": [],
   "execution_count": null
  },
  {
   "metadata": {},
   "cell_type": "code",
   "source": "trainer.save_model(\"bert-base-uncased-sentiment1\")",
   "id": "3528a1b03e76a80b",
   "outputs": [],
   "execution_count": null
  },
  {
   "metadata": {},
   "cell_type": "markdown",
   "source": "## Model Evaluation",
   "id": "bf830a9c918cdcf"
  },
  {
   "metadata": {},
   "cell_type": "code",
   "source": [
    "preds_output = trainer.predict(emotion_encoded['test'])\n",
    "preds_output.metrics"
   ],
   "id": "6e9a47fcef84df17",
   "outputs": [],
   "execution_count": null
  },
  {
   "metadata": {},
   "cell_type": "code",
   "source": [
    "y_pred = np.argmax(preds_output.predictions, axis=1)\n",
    "y_true = emotion_encoded['test'][:]['label']"
   ],
   "id": "790a33d959f974fa",
   "outputs": [],
   "execution_count": null
  },
  {
   "metadata": {},
   "cell_type": "code",
   "source": "print(classification_report(y_true, y_pred))",
   "id": "18e3de77b9ca4f2b",
   "outputs": [],
   "execution_count": null
  },
  {
   "metadata": {},
   "cell_type": "code",
   "source": "label2id",
   "id": "d4045b75e51afce6",
   "outputs": [],
   "execution_count": null
  },
  {
   "metadata": {},
   "cell_type": "code",
   "source": [
    "cm = confusion_matrix(y_true, y_pred)\n",
    "plt.figure(figsize = (5,5))\n",
    "sns.heatmap(cm, annot=True, xticklabels=label2id.keys(), yticklabels=label2id.keys(), fmt='d', cbar=False, cmap='Reds')\n",
    "plt.ylabel('Actual')\n",
    "plt.xlabel('Predicted')\n",
    "plt.show()\n"
   ],
   "id": "6425e8782d094668",
   "outputs": [],
   "execution_count": null
  },
  {
   "metadata": {},
   "cell_type": "markdown",
   "source": "## Build Prediction Function and Store Model",
   "id": "5bdac9a7946c426"
  },
  {
   "metadata": {},
   "cell_type": "code",
   "source": [
    "text = \"I am super happy today. I got it done, finally\"\n",
    "\n",
    "\n"
   ],
   "id": "8c8368292805b6f0",
   "outputs": [],
   "execution_count": null
  },
  {
   "metadata": {},
   "cell_type": "code",
   "source": [
    "def get_prediction(text):\n",
    "    input_encoded = tokenizer(text, return_tensors='pt').to(device)\n",
    "    with torch.no_grad():\n",
    "        outputs = model(**input_encoded)\n",
    "\n",
    "    logits = outputs.logits\n",
    "    pred = torch.argmax(logits, dim=-1).item()\n",
    "    return id2label[pred]\n"
   ],
   "id": "5bf1b6daa8bacd6f",
   "outputs": [],
   "execution_count": null
  },
  {
   "metadata": {},
   "cell_type": "code",
   "source": [
    "# print prediction\n",
    "get_prediction(text)\n"
   ],
   "id": "c2df4cc9d4481ba4",
   "outputs": [],
   "execution_count": null
  },
  {
   "metadata": {},
   "cell_type": "code",
   "source": [
    "# use pipline for prediction\n",
    "\n",
    "classifier = pipeline(\"text-classification\", model=\"bert-base-uncased-sentiment\")\n",
    "classifier([text, \"I hate you!\", \"You are the apple of my eye!\"])"
   ],
   "id": "3328ad0459fc03aa",
   "outputs": [],
   "execution_count": null
  },
  {
   "metadata": {},
   "cell_type": "code",
   "source": [
    "if LOG_INTO_WANDB:\n",
    "    wandb.finish()"
   ],
   "id": "d72b59b489c961e",
   "outputs": [],
   "execution_count": null
  }
 ],
 "metadata": {
  "kernelspec": {
   "display_name": "PyTorchTrain",
   "language": "python",
   "name": "pytorchtrain"
  },
  "language_info": {
   "codemirror_mode": {
    "name": "ipython",
    "version": 3
   },
   "file_extension": ".py",
   "mimetype": "text/x-python",
   "name": "python",
   "nbconvert_exporter": "python",
   "pygments_lexer": "ipython3",
   "version": "3.12.8"
  }
 },
 "nbformat": 4,
 "nbformat_minor": 5
}
